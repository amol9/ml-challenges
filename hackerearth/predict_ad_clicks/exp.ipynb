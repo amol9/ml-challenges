{
  "nbformat": 4,
  "nbformat_minor": 0,
  "metadata": {
    "colab": {
      "name": "predict_ad_clicks_he.ipynb",
      "provenance": [],
      "toc_visible": true,
      "machine_shape": "hm"
    },
    "kernelspec": {
      "name": "python3",
      "display_name": "Python 3"
    }
  },
  "cells": [
    {
      "cell_type": "code",
      "metadata": {
        "id": "_CDuze9I4ys4",
        "colab_type": "code",
        "colab": {
          "base_uri": "https://localhost:8080/",
          "height": 239
        },
        "outputId": "8fed2082-7ffb-4152-928a-eed2e6cdbac8"
      },
      "source": [
        "!wget https://he-s3.s3.amazonaws.com/media/hackathon/machine-learning-challenge-3/predict-ad-clicks/205e1808-6-dataset.zip"
      ],
      "execution_count": 2,
      "outputs": [
        {
          "output_type": "stream",
          "text": [
            "--2020-02-21 05:08:58--  https://he-s3.s3.amazonaws.com/media/hackathon/machine-learning-challenge-3/predict-ad-clicks/205e1808-6-dataset.zip\n",
            "Resolving he-s3.s3.amazonaws.com (he-s3.s3.amazonaws.com)... 52.219.48.36\n",
            "Connecting to he-s3.s3.amazonaws.com (he-s3.s3.amazonaws.com)|52.219.48.36|:443... connected.\n",
            "HTTP request sent, awaiting response... 200 OK\n",
            "Length: 406223751 (387M) [application/zip]\n",
            "Saving to: ‘205e1808-6-dataset.zip’\n",
            "\n",
            "205e1808-6-dataset. 100%[===================>] 387.40M  60.8MB/s    in 6.7s    \n",
            "\n",
            "2020-02-21 05:09:10 (57.9 MB/s) - ‘205e1808-6-dataset.zip’ saved [406223751/406223751]\n",
            "\n"
          ],
          "name": "stdout"
        }
      ]
    },
    {
      "cell_type": "code",
      "metadata": {
        "id": "bopYzyzX5S_x",
        "colab_type": "code",
        "colab": {
          "base_uri": "https://localhost:8080/",
          "height": 90
        },
        "outputId": "38d34aba-3302-4421-a7a3-fb4748b89e41"
      },
      "source": [
        "!unzip 205e1808-6-dataset.zip"
      ],
      "execution_count": 3,
      "outputs": [
        {
          "output_type": "stream",
          "text": [
            "Archive:  205e1808-6-dataset.zip\n",
            "  inflating: sample_submission.csv   \n",
            "  inflating: test.csv                \n",
            "  inflating: train.csv               \n"
          ],
          "name": "stdout"
        }
      ]
    },
    {
      "cell_type": "code",
      "metadata": {
        "id": "6OEt-c2c5iDB",
        "colab_type": "code",
        "colab": {
          "base_uri": "https://localhost:8080/",
          "height": 35
        },
        "outputId": "dc0b85e8-a7ee-4177-bf3d-a6f3121232e5"
      },
      "source": [
        "!ls"
      ],
      "execution_count": 4,
      "outputs": [
        {
          "output_type": "stream",
          "text": [
            "205e1808-6-dataset.zip\tsample_data  sample_submission.csv  test.csv  train.csv\n"
          ],
          "name": "stdout"
        }
      ]
    },
    {
      "cell_type": "code",
      "metadata": {
        "id": "KRpkJXl15znN",
        "colab_type": "code",
        "colab": {}
      },
      "source": [
        "import pandas as pd"
      ],
      "execution_count": 0,
      "outputs": []
    },
    {
      "cell_type": "code",
      "metadata": {
        "id": "n6qhHNbc5lK_",
        "colab_type": "code",
        "colab": {}
      },
      "source": [
        "train = pd.read_csv(\"train.csv\")\n",
        "test = pd.read_csv(\"test.csv\")"
      ],
      "execution_count": 0,
      "outputs": []
    },
    {
      "cell_type": "code",
      "metadata": {
        "id": "ZTJEU5rA5_hj",
        "colab_type": "code",
        "colab": {
          "base_uri": "https://localhost:8080/",
          "height": 35
        },
        "outputId": "280d9da8-3894-458e-aafc-5ac216274b73"
      },
      "source": [
        "print(len(train), len(test))"
      ],
      "execution_count": 7,
      "outputs": [
        {
          "output_type": "stream",
          "text": [
            "12137810 3706907\n"
          ],
          "name": "stdout"
        }
      ]
    },
    {
      "cell_type": "code",
      "metadata": {
        "id": "SzTkJ_au6QDQ",
        "colab_type": "code",
        "colab": {
          "base_uri": "https://localhost:8080/",
          "height": 206
        },
        "outputId": "5a5b3a52-cb59-492b-8201-d7a56bcdc819"
      },
      "source": [
        "train.head()"
      ],
      "execution_count": 8,
      "outputs": [
        {
          "output_type": "execute_result",
          "data": {
            "text/html": [
              "<div>\n",
              "<style scoped>\n",
              "    .dataframe tbody tr th:only-of-type {\n",
              "        vertical-align: middle;\n",
              "    }\n",
              "\n",
              "    .dataframe tbody tr th {\n",
              "        vertical-align: top;\n",
              "    }\n",
              "\n",
              "    .dataframe thead th {\n",
              "        text-align: right;\n",
              "    }\n",
              "</style>\n",
              "<table border=\"1\" class=\"dataframe\">\n",
              "  <thead>\n",
              "    <tr style=\"text-align: right;\">\n",
              "      <th></th>\n",
              "      <th>ID</th>\n",
              "      <th>datetime</th>\n",
              "      <th>siteid</th>\n",
              "      <th>offerid</th>\n",
              "      <th>category</th>\n",
              "      <th>merchant</th>\n",
              "      <th>countrycode</th>\n",
              "      <th>browserid</th>\n",
              "      <th>devid</th>\n",
              "      <th>click</th>\n",
              "    </tr>\n",
              "  </thead>\n",
              "  <tbody>\n",
              "    <tr>\n",
              "      <th>0</th>\n",
              "      <td>IDsrk7SoW</td>\n",
              "      <td>2017-01-14 09:42:09</td>\n",
              "      <td>4709696.0</td>\n",
              "      <td>887235</td>\n",
              "      <td>17714</td>\n",
              "      <td>20301556</td>\n",
              "      <td>e</td>\n",
              "      <td>Firefox</td>\n",
              "      <td>NaN</td>\n",
              "      <td>0</td>\n",
              "    </tr>\n",
              "    <tr>\n",
              "      <th>1</th>\n",
              "      <td>IDmMSxHur</td>\n",
              "      <td>2017-01-18 17:50:53</td>\n",
              "      <td>5189467.0</td>\n",
              "      <td>178235</td>\n",
              "      <td>21407</td>\n",
              "      <td>9434818</td>\n",
              "      <td>b</td>\n",
              "      <td>Mozilla Firefox</td>\n",
              "      <td>Desktop</td>\n",
              "      <td>0</td>\n",
              "    </tr>\n",
              "    <tr>\n",
              "      <th>2</th>\n",
              "      <td>IDVLNN0Ut</td>\n",
              "      <td>2017-01-11 12:46:49</td>\n",
              "      <td>98480.0</td>\n",
              "      <td>518539</td>\n",
              "      <td>25085</td>\n",
              "      <td>2050923</td>\n",
              "      <td>a</td>\n",
              "      <td>Edge</td>\n",
              "      <td>NaN</td>\n",
              "      <td>0</td>\n",
              "    </tr>\n",
              "    <tr>\n",
              "      <th>3</th>\n",
              "      <td>ID32T6wwQ</td>\n",
              "      <td>2017-01-17 10:18:43</td>\n",
              "      <td>8896401.0</td>\n",
              "      <td>390352</td>\n",
              "      <td>40339</td>\n",
              "      <td>72089744</td>\n",
              "      <td>c</td>\n",
              "      <td>Firefox</td>\n",
              "      <td>Mobile</td>\n",
              "      <td>0</td>\n",
              "    </tr>\n",
              "    <tr>\n",
              "      <th>4</th>\n",
              "      <td>IDqUShzMg</td>\n",
              "      <td>2017-01-14 16:02:33</td>\n",
              "      <td>5635120.0</td>\n",
              "      <td>472937</td>\n",
              "      <td>12052</td>\n",
              "      <td>39507200</td>\n",
              "      <td>d</td>\n",
              "      <td>Mozilla Firefox</td>\n",
              "      <td>Desktop</td>\n",
              "      <td>0</td>\n",
              "    </tr>\n",
              "  </tbody>\n",
              "</table>\n",
              "</div>"
            ],
            "text/plain": [
              "          ID             datetime     siteid  ...        browserid    devid  click\n",
              "0  IDsrk7SoW  2017-01-14 09:42:09  4709696.0  ...          Firefox      NaN      0\n",
              "1  IDmMSxHur  2017-01-18 17:50:53  5189467.0  ...  Mozilla Firefox  Desktop      0\n",
              "2  IDVLNN0Ut  2017-01-11 12:46:49    98480.0  ...             Edge      NaN      0\n",
              "3  ID32T6wwQ  2017-01-17 10:18:43  8896401.0  ...          Firefox   Mobile      0\n",
              "4  IDqUShzMg  2017-01-14 16:02:33  5635120.0  ...  Mozilla Firefox  Desktop      0\n",
              "\n",
              "[5 rows x 10 columns]"
            ]
          },
          "metadata": {
            "tags": []
          },
          "execution_count": 8
        }
      ]
    },
    {
      "cell_type": "code",
      "metadata": {
        "id": "S-R33JwX6Tmf",
        "colab_type": "code",
        "colab": {
          "base_uri": "https://localhost:8080/",
          "height": 206
        },
        "outputId": "3dd95ad0-7574-46a2-f611-855adc082895"
      },
      "source": [
        "test.head()"
      ],
      "execution_count": 9,
      "outputs": [
        {
          "output_type": "execute_result",
          "data": {
            "text/html": [
              "<div>\n",
              "<style scoped>\n",
              "    .dataframe tbody tr th:only-of-type {\n",
              "        vertical-align: middle;\n",
              "    }\n",
              "\n",
              "    .dataframe tbody tr th {\n",
              "        vertical-align: top;\n",
              "    }\n",
              "\n",
              "    .dataframe thead th {\n",
              "        text-align: right;\n",
              "    }\n",
              "</style>\n",
              "<table border=\"1\" class=\"dataframe\">\n",
              "  <thead>\n",
              "    <tr style=\"text-align: right;\">\n",
              "      <th></th>\n",
              "      <th>ID</th>\n",
              "      <th>datetime</th>\n",
              "      <th>siteid</th>\n",
              "      <th>offerid</th>\n",
              "      <th>category</th>\n",
              "      <th>merchant</th>\n",
              "      <th>countrycode</th>\n",
              "      <th>browserid</th>\n",
              "      <th>devid</th>\n",
              "    </tr>\n",
              "  </thead>\n",
              "  <tbody>\n",
              "    <tr>\n",
              "      <th>0</th>\n",
              "      <td>IDFDJVI</td>\n",
              "      <td>2017-01-22 09:55:48</td>\n",
              "      <td>755610.0</td>\n",
              "      <td>808980</td>\n",
              "      <td>17714</td>\n",
              "      <td>26391770</td>\n",
              "      <td>b</td>\n",
              "      <td>Mozilla Firefox</td>\n",
              "      <td>Desktop</td>\n",
              "    </tr>\n",
              "    <tr>\n",
              "      <th>1</th>\n",
              "      <td>IDNWkTQ</td>\n",
              "      <td>2017-01-22 03:54:39</td>\n",
              "      <td>3714899.0</td>\n",
              "      <td>280355</td>\n",
              "      <td>12052</td>\n",
              "      <td>39507200</td>\n",
              "      <td>b</td>\n",
              "      <td>Edge</td>\n",
              "      <td>Tablet</td>\n",
              "    </tr>\n",
              "    <tr>\n",
              "      <th>2</th>\n",
              "      <td>ID9pRmM</td>\n",
              "      <td>2017-01-21 10:25:50</td>\n",
              "      <td>4378333.0</td>\n",
              "      <td>930819</td>\n",
              "      <td>30580</td>\n",
              "      <td>46148550</td>\n",
              "      <td>e</td>\n",
              "      <td>Mozilla Firefox</td>\n",
              "      <td>NaN</td>\n",
              "    </tr>\n",
              "    <tr>\n",
              "      <th>3</th>\n",
              "      <td>IDHaQaj</td>\n",
              "      <td>2017-01-22 14:45:53</td>\n",
              "      <td>1754730.0</td>\n",
              "      <td>612234</td>\n",
              "      <td>11837</td>\n",
              "      <td>8837581</td>\n",
              "      <td>b</td>\n",
              "      <td>Edge</td>\n",
              "      <td>Tablet</td>\n",
              "    </tr>\n",
              "    <tr>\n",
              "      <th>4</th>\n",
              "      <td>IDT2CrF</td>\n",
              "      <td>2017-01-22 09:34:07</td>\n",
              "      <td>5299909.0</td>\n",
              "      <td>524289</td>\n",
              "      <td>45620</td>\n",
              "      <td>31388981</td>\n",
              "      <td>b</td>\n",
              "      <td>Mozilla</td>\n",
              "      <td>NaN</td>\n",
              "    </tr>\n",
              "  </tbody>\n",
              "</table>\n",
              "</div>"
            ],
            "text/plain": [
              "        ID             datetime  ...        browserid    devid\n",
              "0  IDFDJVI  2017-01-22 09:55:48  ...  Mozilla Firefox  Desktop\n",
              "1  IDNWkTQ  2017-01-22 03:54:39  ...             Edge   Tablet\n",
              "2  ID9pRmM  2017-01-21 10:25:50  ...  Mozilla Firefox      NaN\n",
              "3  IDHaQaj  2017-01-22 14:45:53  ...             Edge   Tablet\n",
              "4  IDT2CrF  2017-01-22 09:34:07  ...          Mozilla      NaN\n",
              "\n",
              "[5 rows x 9 columns]"
            ]
          },
          "metadata": {
            "tags": []
          },
          "execution_count": 9
        }
      ]
    },
    {
      "cell_type": "code",
      "metadata": {
        "id": "TAhPuKfZ6w7f",
        "colab_type": "code",
        "colab": {
          "base_uri": "https://localhost:8080/",
          "height": 219
        },
        "outputId": "d0af56ae-5058-4273-a90c-c56003b38777"
      },
      "source": [
        "train.isnull().sum(axis=0)"
      ],
      "execution_count": 10,
      "outputs": [
        {
          "output_type": "execute_result",
          "data": {
            "text/plain": [
              "ID                   0\n",
              "datetime             0\n",
              "siteid         1212515\n",
              "offerid              0\n",
              "category             0\n",
              "merchant             0\n",
              "countrycode          0\n",
              "browserid       608327\n",
              "devid          1820299\n",
              "click                0\n",
              "dtype: int64"
            ]
          },
          "metadata": {
            "tags": []
          },
          "execution_count": 10
        }
      ]
    },
    {
      "cell_type": "code",
      "metadata": {
        "id": "E0HeRvcA7hrn",
        "colab_type": "code",
        "colab": {
          "base_uri": "https://localhost:8080/",
          "height": 109
        },
        "outputId": "1989fd83-f98b-4726-81d3-57f115743af8"
      },
      "source": [
        "train['siteid'].unique(), train['browserid'].unique(), train['devid'].unique()"
      ],
      "execution_count": 11,
      "outputs": [
        {
          "output_type": "execute_result",
          "data": {
            "text/plain": [
              "(array([4709696., 5189467.,   98480., ..., 4086584.,  762989., 4284843.]),\n",
              " array(['Firefox', 'Mozilla Firefox', 'Edge', 'Google Chrome', nan,\n",
              "        'Mozilla', 'Chrome', 'IE', 'InternetExplorer', 'Opera',\n",
              "        'Internet Explorer', 'Safari'], dtype=object),\n",
              " array([nan, 'Desktop', 'Mobile', 'Tablet'], dtype=object))"
            ]
          },
          "metadata": {
            "tags": []
          },
          "execution_count": 11
        }
      ]
    },
    {
      "cell_type": "code",
      "metadata": {
        "id": "BZ15tGp977uJ",
        "colab_type": "code",
        "colab": {}
      },
      "source": [
        "train['siteid'].fillna(-999, inplace=True)\n",
        "test['siteid'].fillna(-999, inplace=True)\n",
        "\n",
        "train['browserid'].fillna(\"None\", inplace=True)\n",
        "test['browserid'].fillna(\"None\", inplace=True)\n",
        "\n",
        "train['devid'].fillna(\"None\", inplace=True)\n",
        "test['devid'].fillna(\"None\", inplace=True)"
      ],
      "execution_count": 0,
      "outputs": []
    },
    {
      "cell_type": "code",
      "metadata": {
        "id": "FSxE8R2W8nDQ",
        "colab_type": "code",
        "colab": {}
      },
      "source": [
        "train['datetime'] = pd.to_datetime(train['datetime'])\n",
        "test['datetime'] = pd.to_datetime(test['datetime'])"
      ],
      "execution_count": 0,
      "outputs": []
    },
    {
      "cell_type": "code",
      "metadata": {
        "id": "O5L5bCNm8yHM",
        "colab_type": "code",
        "colab": {}
      },
      "source": [
        "train['tweekday'] = train['datetime'].dt.weekday\n",
        "train['thour'] = train['datetime'].dt.hour\n",
        "train['tminute'] = train['datetime'].dt.minute\n",
        "\n",
        "test['tweekday'] = test['datetime'].dt.weekday\n",
        "test['thour'] = test['datetime'].dt.hour\n",
        "test['tminute'] = test['datetime'].dt.minute"
      ],
      "execution_count": 0,
      "outputs": []
    },
    {
      "cell_type": "code",
      "metadata": {
        "id": "wBu2DmzG-NSm",
        "colab_type": "code",
        "colab": {}
      },
      "source": [
        "train['siteid'] = train['siteid'].astype('int64')"
      ],
      "execution_count": 0,
      "outputs": []
    },
    {
      "cell_type": "code",
      "metadata": {
        "id": "vz0CS5_EFR80",
        "colab_type": "code",
        "colab": {
          "base_uri": "https://localhost:8080/",
          "height": 274
        },
        "outputId": "3ae6b4bc-2d81-4a2e-f2e9-664fda933043"
      },
      "source": [
        "train.dtypes"
      ],
      "execution_count": 16,
      "outputs": [
        {
          "output_type": "execute_result",
          "data": {
            "text/plain": [
              "ID                     object\n",
              "datetime       datetime64[ns]\n",
              "siteid                  int64\n",
              "offerid                 int64\n",
              "category                int64\n",
              "merchant                int64\n",
              "countrycode            object\n",
              "browserid              object\n",
              "devid                  object\n",
              "click                   int64\n",
              "tweekday                int64\n",
              "thour                   int64\n",
              "tminute                 int64\n",
              "dtype: object"
            ]
          },
          "metadata": {
            "tags": []
          },
          "execution_count": 16
        }
      ]
    },
    {
      "cell_type": "code",
      "metadata": {
        "id": "-NTFwzEZFnyf",
        "colab_type": "code",
        "colab": {
          "base_uri": "https://localhost:8080/",
          "height": 35
        },
        "outputId": "6f7e7775-26ef-484a-ffb8-e632dbffc896"
      },
      "source": [
        "train['devid'].unique()"
      ],
      "execution_count": 17,
      "outputs": [
        {
          "output_type": "execute_result",
          "data": {
            "text/plain": [
              "array(['None', 'Desktop', 'Mobile', 'Tablet'], dtype=object)"
            ]
          },
          "metadata": {
            "tags": []
          },
          "execution_count": 17
        }
      ]
    },
    {
      "cell_type": "code",
      "metadata": {
        "id": "zf4JPaGU-gLj",
        "colab_type": "code",
        "colab": {}
      },
      "source": [
        "cols_to_use = list(set(train.columns) - set(['ID','datetime','click']))"
      ],
      "execution_count": 0,
      "outputs": []
    },
    {
      "cell_type": "code",
      "metadata": {
        "id": "AZMvMNF4-nUw",
        "colab_type": "code",
        "colab": {
          "base_uri": "https://localhost:8080/",
          "height": 201
        },
        "outputId": "ec9ede53-f56d-4fec-bdf0-0fef0534f211"
      },
      "source": [
        "for i, c in enumerate(train[cols_to_use]): print(i,c)"
      ],
      "execution_count": 19,
      "outputs": [
        {
          "output_type": "stream",
          "text": [
            "0 merchant\n",
            "1 countrycode\n",
            "2 offerid\n",
            "3 siteid\n",
            "4 category\n",
            "5 browserid\n",
            "6 devid\n",
            "7 tminute\n",
            "8 tweekday\n",
            "9 thour\n"
          ],
          "name": "stdout"
        }
      ]
    },
    {
      "cell_type": "code",
      "metadata": {
        "id": "qIRaJ1o__gIh",
        "colab_type": "code",
        "colab": {
          "base_uri": "https://localhost:8080/",
          "height": 35
        },
        "outputId": "6354b320-b39a-4e64-a325-e6494ef1b0a4"
      },
      "source": [
        "train['siteid'].unique()"
      ],
      "execution_count": 20,
      "outputs": [
        {
          "output_type": "execute_result",
          "data": {
            "text/plain": [
              "array([4709696, 5189467,   98480, ..., 4086584,  762989, 4284843])"
            ]
          },
          "metadata": {
            "tags": []
          },
          "execution_count": 20
        }
      ]
    },
    {
      "cell_type": "code",
      "metadata": {
        "id": "S3JHSCDr_bI2",
        "colab_type": "code",
        "colab": {}
      },
      "source": [
        "cat_cols = cols_to_use"
      ],
      "execution_count": 0,
      "outputs": []
    },
    {
      "cell_type": "code",
      "metadata": {
        "id": "zWar8ruFBtIY",
        "colab_type": "code",
        "colab": {}
      },
      "source": [
        "import numpy as np"
      ],
      "execution_count": 0,
      "outputs": []
    },
    {
      "cell_type": "code",
      "metadata": {
        "id": "nJjRGUslBgWh",
        "colab_type": "code",
        "colab": {}
      },
      "source": [
        "rows = np.random.choice(train.index.values, 1000 * 1000)\n",
        "strain = train.loc[rows]\n",
        "sx_train = train[cols_to_use]\n",
        "sy_train = train['click']"
      ],
      "execution_count": 0,
      "outputs": []
    },
    {
      "cell_type": "code",
      "metadata": {
        "id": "O1-R5-VbC9F3",
        "colab_type": "code",
        "colab": {}
      },
      "source": [
        "from sklearn.model_selection import train_test_split\n",
        "x_train, x_test, y_train, y_test = train_test_split(sx_train, sy_train, test_size=0.2)"
      ],
      "execution_count": 0,
      "outputs": []
    },
    {
      "cell_type": "code",
      "metadata": {
        "id": "FXjN0M5sDCNa",
        "colab_type": "code",
        "colab": {
          "base_uri": "https://localhost:8080/",
          "height": 386
        },
        "outputId": "17e23028-04c8-481c-adf6-90905f3a2c6a"
      },
      "source": [
        "!pip install catboost"
      ],
      "execution_count": 25,
      "outputs": [
        {
          "output_type": "stream",
          "text": [
            "Collecting catboost\n",
            "\u001b[?25l  Downloading https://files.pythonhosted.org/packages/ca/ae/aaff63662f7f5d2af7ec8d61a6f39e78ada9348e5df4f43e665ecc4bea10/catboost-0.21-cp36-none-manylinux1_x86_64.whl (64.0MB)\n",
            "\u001b[K     |████████████████████████████████| 64.0MB 61kB/s \n",
            "\u001b[?25hRequirement already satisfied: graphviz in /usr/local/lib/python3.6/dist-packages (from catboost) (0.10.1)\n",
            "Requirement already satisfied: pandas>=0.24.0 in /usr/local/lib/python3.6/dist-packages (from catboost) (0.25.3)\n",
            "Requirement already satisfied: scipy in /usr/local/lib/python3.6/dist-packages (from catboost) (1.4.1)\n",
            "Requirement already satisfied: numpy>=1.16.0 in /usr/local/lib/python3.6/dist-packages (from catboost) (1.17.5)\n",
            "Requirement already satisfied: six in /usr/local/lib/python3.6/dist-packages (from catboost) (1.12.0)\n",
            "Requirement already satisfied: matplotlib in /usr/local/lib/python3.6/dist-packages (from catboost) (3.1.3)\n",
            "Requirement already satisfied: plotly in /usr/local/lib/python3.6/dist-packages (from catboost) (4.4.1)\n",
            "Requirement already satisfied: python-dateutil>=2.6.1 in /usr/local/lib/python3.6/dist-packages (from pandas>=0.24.0->catboost) (2.6.1)\n",
            "Requirement already satisfied: pytz>=2017.2 in /usr/local/lib/python3.6/dist-packages (from pandas>=0.24.0->catboost) (2018.9)\n",
            "Requirement already satisfied: pyparsing!=2.0.4,!=2.1.2,!=2.1.6,>=2.0.1 in /usr/local/lib/python3.6/dist-packages (from matplotlib->catboost) (2.4.6)\n",
            "Requirement already satisfied: cycler>=0.10 in /usr/local/lib/python3.6/dist-packages (from matplotlib->catboost) (0.10.0)\n",
            "Requirement already satisfied: kiwisolver>=1.0.1 in /usr/local/lib/python3.6/dist-packages (from matplotlib->catboost) (1.1.0)\n",
            "Requirement already satisfied: retrying>=1.3.3 in /usr/local/lib/python3.6/dist-packages (from plotly->catboost) (1.3.3)\n",
            "Requirement already satisfied: setuptools in /usr/local/lib/python3.6/dist-packages (from kiwisolver>=1.0.1->matplotlib->catboost) (45.1.0)\n",
            "Installing collected packages: catboost\n",
            "Successfully installed catboost-0.21\n"
          ],
          "name": "stdout"
        }
      ]
    },
    {
      "cell_type": "code",
      "metadata": {
        "id": "32n9knG0DAj6",
        "colab_type": "code",
        "colab": {}
      },
      "source": [
        "from catboost import CatBoostClassifier\n",
        "model = CatBoostClassifier(depth=10, iterations=10, learning_rate=0.1, eval_metric='AUC', random_seed=1)"
      ],
      "execution_count": 0,
      "outputs": []
    },
    {
      "cell_type": "code",
      "metadata": {
        "id": "l-TXECBBDe3Q",
        "colab_type": "code",
        "colab": {
          "base_uri": "https://localhost:8080/",
          "height": 293
        },
        "outputId": "d7d583d2-5093-4484-c23b-38fee4452ea6"
      },
      "source": [
        "model.fit(x_train, y_train, cat_features=cat_cols, eval_set=(x_test, y_test), use_best_model=True)"
      ],
      "execution_count": 27,
      "outputs": [
        {
          "output_type": "stream",
          "text": [
            "0:\ttest: 0.9633123\tbest: 0.9633123 (0)\ttotal: 10s\tremaining: 1m 30s\n",
            "1:\ttest: 0.9681060\tbest: 0.9681060 (1)\ttotal: 16.1s\tremaining: 1m 4s\n",
            "2:\ttest: 0.9680290\tbest: 0.9681060 (1)\ttotal: 22.6s\tremaining: 52.8s\n",
            "3:\ttest: 0.9693524\tbest: 0.9693524 (3)\ttotal: 28.5s\tremaining: 42.8s\n",
            "4:\ttest: 0.9699573\tbest: 0.9699573 (4)\ttotal: 34.8s\tremaining: 34.8s\n",
            "5:\ttest: 0.9700139\tbest: 0.9700139 (5)\ttotal: 40.6s\tremaining: 27.1s\n",
            "6:\ttest: 0.9702135\tbest: 0.9702135 (6)\ttotal: 46.6s\tremaining: 20s\n",
            "7:\ttest: 0.9701862\tbest: 0.9702135 (6)\ttotal: 52.4s\tremaining: 13.1s\n",
            "8:\ttest: 0.9704493\tbest: 0.9704493 (8)\ttotal: 58.3s\tremaining: 6.48s\n",
            "9:\ttest: 0.9705305\tbest: 0.9705305 (9)\ttotal: 1m 4s\tremaining: 0us\n",
            "\n",
            "bestTest = 0.9705305146\n",
            "bestIteration = 9\n",
            "\n"
          ],
          "name": "stdout"
        },
        {
          "output_type": "execute_result",
          "data": {
            "text/plain": [
              "<catboost.core.CatBoostClassifier at 0x7f05706c4898>"
            ]
          },
          "metadata": {
            "tags": []
          },
          "execution_count": 27
        }
      ]
    },
    {
      "cell_type": "code",
      "metadata": {
        "id": "bdJYqxjhK2cz",
        "colab_type": "code",
        "colab": {
          "base_uri": "https://localhost:8080/",
          "height": 256
        },
        "outputId": "2a5b6eb7-b042-49d2-abc2-ce239104aba3"
      },
      "source": [
        "test.dtypes"
      ],
      "execution_count": 29,
      "outputs": [
        {
          "output_type": "execute_result",
          "data": {
            "text/plain": [
              "ID                     object\n",
              "datetime       datetime64[ns]\n",
              "siteid                float64\n",
              "offerid                 int64\n",
              "category                int64\n",
              "merchant                int64\n",
              "countrycode            object\n",
              "browserid              object\n",
              "devid                  object\n",
              "tweekday                int64\n",
              "thour                   int64\n",
              "tminute                 int64\n",
              "dtype: object"
            ]
          },
          "metadata": {
            "tags": []
          },
          "execution_count": 29
        }
      ]
    },
    {
      "cell_type": "code",
      "metadata": {
        "colab_type": "code",
        "id": "L3O7Zgf-LDal",
        "colab": {}
      },
      "source": [
        "test['siteid'] = test['siteid'].astype('int64')"
      ],
      "execution_count": 0,
      "outputs": []
    },
    {
      "cell_type": "code",
      "metadata": {
        "id": "H-KopcTEIEr9",
        "colab_type": "code",
        "colab": {}
      },
      "source": [
        "pred = model.predict_proba(test[cols_to_use])[:,1]"
      ],
      "execution_count": 0,
      "outputs": []
    },
    {
      "cell_type": "code",
      "metadata": {
        "id": "ygiPphVDLolG",
        "colab_type": "code",
        "colab": {}
      },
      "source": [
        "sub = pd.DataFrame({'ID':test['ID'],'click':pred})\n",
        "sub.to_csv('cb_sub1.csv',index=False)"
      ],
      "execution_count": 0,
      "outputs": []
    },
    {
      "cell_type": "code",
      "metadata": {
        "id": "b0IlkaZ8L9T-",
        "colab_type": "code",
        "colab": {
          "base_uri": "https://localhost:8080/",
          "height": 201
        },
        "outputId": "53802ec0-13a6-4a3d-f34b-346794328478"
      },
      "source": [
        "cat cb_sub1.csv | head"
      ],
      "execution_count": 34,
      "outputs": [
        {
          "output_type": "stream",
          "text": [
            "ID,click\n",
            "IDFDJVI,0.17971860174719173\n",
            "IDNWkTQ,0.17968417086199848\n",
            "ID9pRmM,0.1804081731846483\n",
            "IDHaQaj,0.17960659018305675\n",
            "IDT2CrF,0.17973552993865038\n",
            "IDFZS6l,0.19464720215011988\n",
            "IDecQv2,0.17959668655213787\n",
            "IDR9hAD,0.1945661735072258\n",
            "IDzZxxC,0.18005096791790118\n"
          ],
          "name": "stdout"
        }
      ]
    },
    {
      "cell_type": "code",
      "metadata": {
        "id": "6d5z5yApMDi2",
        "colab_type": "code",
        "colab": {
          "base_uri": "https://localhost:8080/",
          "height": 35
        },
        "outputId": "522d2449-4c5b-4658-fe2b-2bd2a6c37394"
      },
      "source": [
        "!zip sub.zip cb_sub1.csv"
      ],
      "execution_count": 39,
      "outputs": [
        {
          "output_type": "stream",
          "text": [
            "  adding: cb_sub1.csv (deflated 67%)\n"
          ],
          "name": "stdout"
        }
      ]
    }
  ]
}